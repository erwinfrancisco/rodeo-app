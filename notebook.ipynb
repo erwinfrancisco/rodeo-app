{
 "cells": [
  {
   "cell_type": "markdown",
   "id": "e5707b14",
   "metadata": {},
   "source": [
    "# Modelorama El Rodeo"
   ]
  },
  {
   "cell_type": "markdown",
   "id": "468105d6",
   "metadata": {},
   "source": [
    "Proyecto: Gestión de ingresos, egresos e inventarios."
   ]
  },
  {
   "cell_type": "markdown",
   "id": "f0b33924",
   "metadata": {},
   "source": [
    "## Base de datos"
   ]
  },
  {
   "cell_type": "markdown",
   "id": "b7a1761b",
   "metadata": {},
   "source": [
    "### Creación de BD"
   ]
  },
  {
   "cell_type": "code",
   "execution_count": 20,
   "id": "ea43d731",
   "metadata": {},
   "outputs": [],
   "source": [
    "import pandas as pd\n",
    "import sqlite3\n",
    "\n",
    "con = sqlite3.connect('modelorama.db')\n",
    "cur = con.cursor()"
   ]
  },
  {
   "cell_type": "markdown",
   "id": "c0ed367e",
   "metadata": {},
   "source": [
    "### Módulo de Ingresos"
   ]
  },
  {
   "cell_type": "markdown",
   "id": "52b254d0",
   "metadata": {},
   "source": [
    "Estructura de Base de datos:\n",
    "\n",
    "* id integer primary key autoincrement, #integer\n",
    "* fecha date, # integer\n",
    "* tipo_pago varchar(), # text\n",
    "* cliente varchar(), # text\n",
    "* importe float (real) # real\n",
    "\n",
    "#Tipo de datos en sqlite3"
   ]
  },
  {
   "cell_type": "code",
   "execution_count": 21,
   "id": "b81d8540",
   "metadata": {},
   "outputs": [
    {
     "data": {
      "text/plain": [
       "<sqlite3.Cursor at 0x1275a2420>"
      ]
     },
     "execution_count": 21,
     "metadata": {},
     "output_type": "execute_result"
    }
   ],
   "source": [
    "# CATÁLOGOS\n",
    "\n",
    "# Tabla cat_formas_pago\n",
    "con.execute(\n",
    "    '''CREATE TABLE IF NOT EXISTS cat_formas_pago (clave integer primary key autoincrement, \n",
    "    descripcion text)''')\n",
    "\n",
    "# Tabla cat_gastos\n",
    "con.execute(\n",
    "    '''CREATE TABLE IF NOT EXISTS cat_gastos (clave integer primary key autoincrement, \n",
    "    categoria text,\n",
    "    subcategoria text,\n",
    "    descripcion text)''')\n",
    "\n",
    "# Tabla cat_ingresos\n",
    "con.execute(\n",
    "    '''CREATE TABLE IF NOT EXISTS cat_ingresos (clave integer primary key autoincrement, \n",
    "    categoria text,\n",
    "    subcategoria text,\n",
    "    descripcion text)''')\n",
    "\n",
    "# Tabla cat_proveedores\n",
    "con.execute(\n",
    "    '''CREATE TABLE IF NOT EXISTS cat_proveedores (clave integer primary key autoincrement, \n",
    "    nombre text,\n",
    "    rfc text,\n",
    "    email text,\n",
    "    telefono integer,\n",
    "    ext text,\n",
    "    celular integer,\n",
    "    direccion text,\n",
    "    colonia text,\n",
    "    cp integer,\n",
    "    estado text,\n",
    "    ciudad text,\n",
    "    poblacion text,\n",
    "    identificacion blob)''')\n",
    "\n",
    "# Tabla cat_clientes\n",
    "con.execute(\n",
    "    '''CREATE TABLE IF NOT EXISTS cat_clientes (clave integer primary key autoincrement,\n",
    "    nombre text,\n",
    "    apellido_pat text,\n",
    "    apellido_mat text,\n",
    "    rfc text,\n",
    "    fecha_nac text,\n",
    "    email text,\n",
    "    celular integer,\n",
    "    telefono integer,\n",
    "    ext text,\n",
    "    direccion text,\n",
    "    colonia text,\n",
    "    cp integer,\n",
    "    estado text,\n",
    "    ciudad text,\n",
    "    poblacion text,\n",
    "    fotografia blob,\n",
    "    identificacion blob)''')\n",
    "\n",
    "# Tabla cat_empleados\n",
    "con.execute(\n",
    "    '''CREATE TABLE IF NOT EXISTS cat_empleados (clave integer primary key autoincrement,\n",
    "    fecha_ingreso text,\n",
    "    nombre text,\n",
    "    apellido_pat text,\n",
    "    apellido_mat text,\n",
    "    rfc text,\n",
    "    fecha_nac text,\n",
    "    estado_civil text,\n",
    "    tipo_sangre text,\n",
    "    email text,\n",
    "    celular integer,\n",
    "    telefono integer,\n",
    "    ext text,\n",
    "    direccion text,\n",
    "    cp integer,\n",
    "    estado text,\n",
    "    ciudad text,\n",
    "    poblacion text,\n",
    "    horario_entrada text,\n",
    "    horario_salida text,\n",
    "    fotografia blob,\n",
    "    identificacion blob,\n",
    "    documentos blob)''')\n",
    "\n",
    "# Tabla cat_productos\n",
    "con.execute(\n",
    "    '''CREATE TABLE IF NOT EXISTS cat_productos (clave integer primary key autoincrement,\n",
    "    ean text,\n",
    "    sku text,\n",
    "    categoria text,\n",
    "    marca text,\n",
    "    submarca text,\n",
    "    producto text,\n",
    "    presentacion text,\n",
    "    cupo integer,\n",
    "    tipo_envase text,\n",
    "    imagen blob)''')\n",
    "\n",
    "# Tabla de ingresos\n",
    "con.execute(\n",
    "    '''CREATE TABLE IF NOT EXISTS ingresos (clave integer primary key autoincrement, \n",
    "    fecha text, \n",
    "    fk_formas_pago text, \n",
    "    cliente text, \n",
    "    importe real,\n",
    "    FOREIGN KEY(fk_formas_pago) REFERENCES cat_formas_pago(descripcion))''')\n",
    "\n",
    "# Tabla de gastos\n",
    "con.execute(\n",
    "    '''CREATE TABLE IF NOT EXISTS gastos (clave integer primary key autoincrement, \n",
    "    fecha text, \n",
    "    fk_categoria text, \n",
    "    fk_subcategoria text, \n",
    "    descripcion text,\n",
    "    importe real,\n",
    "    proveedor real,\n",
    "    notas text,\n",
    "    documentos blob,\n",
    "    FOREIGN KEY(fk_categoria) REFERENCES categoria(cat_gastos),\n",
    "    FOREIGN KEY(fk_subcategoria) REFERENCES subcategoria(cat_gastos))''')\n",
    "\n",
    "# Tabla de inventarios\n",
    "con.execute(\n",
    "    '''CREATE TABLE IF NOT EXISTS inventario (clave integer primary key autoincrement, \n",
    "    fk_sku text, \n",
    "    ean text, \n",
    "    producto text, \n",
    "    cantidad_cajas real,\n",
    "    cantidad_piezas integer,\n",
    "    precio_costo real,\n",
    "    precio_venta real,\n",
    "    FOREIGN KEY(fk_sku) REFERENCES sku(cat_productos))''')\n",
    "\n",
    "# Tabla de pedidos\n",
    "con.execute(\n",
    "    '''CREATE TABLE IF NOT EXISTS pedidos (clave integer primary key autoincrement, \n",
    "    num_pedido text, \n",
    "    fecha_pedido text, \n",
    "    fk_sku integer, \n",
    "    cantidad_cajas integer,\n",
    "    precio_costo,\n",
    "    importe_facturado,\n",
    "    fecha_entrega,\n",
    "    tipo_pedido,\n",
    "    notas text,\n",
    "    FOREIGN KEY(fk_sku) REFERENCES cat_productos(sku))''')"
   ]
  },
  {
   "cell_type": "markdown",
   "id": "022ff5ac",
   "metadata": {},
   "source": [
    "Configuración para eliminar el menú superior derecho de streamlit"
   ]
  },
  {
   "cell_type": "code",
   "execution_count": 22,
   "id": "f833e579",
   "metadata": {},
   "outputs": [],
   "source": [
    "# Configuración #1 Para quitar el menú superior derecho de settings de Streamlit\n",
    "# #Settings\n",
    "# hide_streamlit_style = \"\"\"\n",
    "# <style>\n",
    "# #MainMenu {visibility: hidden;}\n",
    "# footer {visibility: hidden;}\n",
    "# </style>\n",
    "\n",
    "# \"\"\"\n",
    "# st.markdown(hide_streamlit_style, unsafe_allow_html=True)\n",
    "\n",
    "\n",
    "# Configuración #2 Para personalizar título y el icono de la app."
   ]
  },
  {
   "cell_type": "code",
   "execution_count": 53,
   "id": "5c7ee78e",
   "metadata": {},
   "outputs": [
    {
     "name": "stdout",
     "output_type": "stream",
     "text": [
      "Overwriting modelorama_app.py\n"
     ]
    }
   ],
   "source": [
    "%%writefile modelorama_app.py\n",
    "\n",
    "import streamlit as st\n",
    "import pandas as pd\n",
    "import sqlite3\n",
    "\n",
    "con = sqlite3.connect('modelorama.db')\n",
    "cur = con.cursor()\n",
    "\n",
    "st.set_page_config(page_title='Modelorama El Rodeo', page_icon='🍻')\n",
    "\n",
    "# Header\n",
    "# (pendiente)\n",
    "\n",
    "# Sidebar\n",
    "sidebar = st.sidebar\n",
    "sidebar.image('logoModelorama.png')\n",
    "menu_principal = sidebar.selectbox('', ['Principal', 'Indicadores', 'Ingresos', 'Gastos', 'Inventarios', 'Pedidos'])\n",
    "sidebar.markdown('___')\n",
    "\n",
    "menu_pos = sidebar.selectbox('POS', ['Punto de venta','Arqueo de efectivo'])\n",
    "sidebar.markdown('___')\n",
    "\n",
    "menu_catalogos = sidebar.selectbox('Catálogos', ['Productos', 'Empleados', 'Clientes', 'Proveedores', 'Categorías de ingresos', 'Categorías de gastos', 'Formas de pago'])\n",
    "\n",
    "\n",
    "# Menú catálogos: Formas de pago\n",
    "\n",
    "if menu_catalogos == 'Formas de pago':\n",
    "    \n",
    "    df_formas_pago = pd.read_sql('SELECT * FROM cat_formas_pago', con)\n",
    "    df_formas_pago = df_formas_pago.sort_values(by='clave', ascending=False).set_index('clave')\n",
    "    \n",
    "    col1, col2 = st.columns((1,2))\n",
    "    with col1:\n",
    "        st.subheader('Alta de forma de pago')\n",
    "        form = st.form('Forma de pago', clear_on_submit=True)\n",
    "        descripcion = form.text_input('Descripcion:','')    \n",
    "        form_submit = form.form_submit_button('Agregar')\n",
    "    \n",
    "        if form_submit:\n",
    "            cur.execute(\"insert into cat_formas_pago (descripcion) values (?)\", (descripcion,))\n",
    "            con.commit()\n",
    "            con.close()\n",
    "    with col2:\n",
    "        #st.table(df_forma_pago)\n",
    "        st.table(df_formas_pago)"
   ]
  },
  {
   "cell_type": "code",
   "execution_count": 54,
   "id": "3864a2db",
   "metadata": {},
   "outputs": [
    {
     "name": "stdout",
     "output_type": "stream",
     "text": [
      "\u001b[0m\n",
      "\u001b[34m\u001b[1m  You can now view your Streamlit app in your browser.\u001b[0m\n",
      "\u001b[0m\n",
      "\u001b[34m  Local URL: \u001b[0m\u001b[1mhttp://localhost:8501\u001b[0m\n",
      "\u001b[34m  Network URL: \u001b[0m\u001b[1mhttp://192.168.1.103:8501\u001b[0m\n",
      "\u001b[0m\n",
      "\u001b[34m\u001b[1m  For better performance, install the Watchdog module:\u001b[0m\n",
      "\n",
      "  $ xcode-select --install\n",
      "  $ pip install watchdog\n",
      "            \u001b[0m\n",
      "^C\n",
      "\u001b[34m  Stopping...\u001b[0m\n"
     ]
    }
   ],
   "source": [
    "!streamlit run modelorama_app.py"
   ]
  },
  {
   "cell_type": "code",
   "execution_count": null,
   "id": "b388668b",
   "metadata": {},
   "outputs": [],
   "source": [
    "!pwd"
   ]
  },
  {
   "cell_type": "code",
   "execution_count": null,
   "id": "f6173bdc",
   "metadata": {},
   "outputs": [],
   "source": []
  }
 ],
 "metadata": {
  "hide_input": false,
  "kernelspec": {
   "display_name": "Python 3 (ipykernel)",
   "language": "python",
   "name": "python3"
  },
  "language_info": {
   "codemirror_mode": {
    "name": "ipython",
    "version": 3
   },
   "file_extension": ".py",
   "mimetype": "text/x-python",
   "name": "python",
   "nbconvert_exporter": "python",
   "pygments_lexer": "ipython3",
   "version": "3.9.7"
  },
  "toc": {
   "base_numbering": 1,
   "nav_menu": {},
   "number_sections": true,
   "sideBar": true,
   "skip_h1_title": false,
   "title_cell": "Table of Contents",
   "title_sidebar": "Contents",
   "toc_cell": false,
   "toc_position": {},
   "toc_section_display": true,
   "toc_window_display": false
  }
 },
 "nbformat": 4,
 "nbformat_minor": 5
}
